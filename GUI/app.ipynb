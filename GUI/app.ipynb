{
 "cells": [
  {
   "cell_type": "code",
   "execution_count": 1,
   "metadata": {},
   "outputs": [
    {
     "name": "stdout",
     "output_type": "stream",
     "text": [
      "Found 70295 images belonging to 38 classes.\n"
     ]
    }
   ],
   "source": [
    "from tensorflow.keras.preprocessing.image import ImageDataGenerator\n",
    "\n",
    "train_datagen = ImageDataGenerator(rescale=1./255)\n",
    "base_dir = 'D:\\\\Academic projects\\\\Minor project\\\\Data\\\\New Plant Diseases Dataset(Augmented)'\n",
    "training_set = train_datagen.flow_from_directory(base_dir+'/train', target_size=(224,224), batch_size=64, class_mode='categorical')\n",
    "li = list(training_set.class_indices.keys())\n",
    "training_set = 0"
   ]
  },
  {
   "cell_type": "code",
   "execution_count": 5,
   "metadata": {},
   "outputs": [
    {
     "name": "stdout",
     "output_type": "stream",
     "text": [
      "['Apple___Apple_scab', 'Apple___Black_rot', 'Apple___Cedar_apple_rust', 'Apple___healthy', 'Blueberry___healthy', 'Cherry_(including_sour)___Powdery_mildew', 'Cherry_(including_sour)___healthy', 'Corn_(maize)___Cercospora_leaf_spot Gray_leaf_spot', 'Corn_(maize)___Common_rust_', 'Corn_(maize)___Northern_Leaf_Blight', 'Corn_(maize)___healthy', 'Grape___Black_rot', 'Grape___Esca_(Black_Measles)', 'Grape___Leaf_blight_(Isariopsis_Leaf_Spot)', 'Grape___healthy', 'Orange___Haunglongbing_(Citrus_greening)', 'Peach___Bacterial_spot', 'Peach___healthy', 'Pepper,_bell___Bacterial_spot', 'Pepper,_bell___healthy', 'Potato___Early_blight', 'Potato___Late_blight', 'Potato___healthy', 'Raspberry___healthy', 'Soybean___healthy', 'Squash___Powdery_mildew', 'Strawberry___Leaf_scorch', 'Strawberry___healthy', 'Tomato___Bacterial_spot', 'Tomato___Early_blight', 'Tomato___Late_blight', 'Tomato___Leaf_Mold', 'Tomato___Septoria_leaf_spot', 'Tomato___Spider_mites Two-spotted_spider_mite', 'Tomato___Target_Spot', 'Tomato___Tomato_Yellow_Leaf_Curl_Virus', 'Tomato___Tomato_mosaic_virus', 'Tomato___healthy']\n"
     ]
    }
   ],
   "source": [
    "print(li)"
   ]
  },
  {
   "cell_type": "code",
   "execution_count": 2,
   "metadata": {},
   "outputs": [],
   "source": [
    "from tensorflow.keras.models import load_model\n",
    "from keras.preprocessing import image\n",
    "import numpy as np\n",
    "\n",
    "def predict(filepath,li):\n",
    "    model = load_model('D:\\\\Academic projects\\\\Minor project\\\\code\\\\cnn2\\\\model.h5')\n",
    "\n",
    "    image_path = filepath\n",
    "    new_img = image.load_img(image_path, target_size=(224, 224))\n",
    "    img = image.img_to_array(new_img)\n",
    "    img = np.expand_dims(img, axis=0)\n",
    "    img = img/255\n",
    "\n",
    "    prediction = model.predict(img)\n",
    "\n",
    "    d = prediction.flatten()\n",
    "    j = d.max()\n",
    "    for index,item in enumerate(d):\n",
    "        if item == j:\n",
    "            class_name = li[index]\n",
    "    return class_name"
   ]
  },
  {
   "cell_type": "code",
   "execution_count": 3,
   "metadata": {},
   "outputs": [],
   "source": [
    "import pandas as pd\n",
    "\n",
    "def pest_name(input_string):\n",
    "    df = pd.read_excel(\"D:\\\\Academic projects\\\\Minor project\\\\App\\\\pest data.xlsx\")\n",
    "    \n",
    "    if input_string in df[\"Disease\"].values:\n",
    "        value = df.loc[df[\"Disease\"] == input_string, \"pest\"].values[0]\n",
    "        return value"
   ]
  },
  {
   "cell_type": "code",
   "execution_count": 5,
   "metadata": {},
   "outputs": [],
   "source": [
    "import tkinter as tk\n",
    "from tkinter import *\n",
    "from tkinter import filedialog\n",
    "from PIL import ImageTk, Image\n",
    "\n",
    "\n",
    "root = Tk()\n",
    "\n",
    "root.title('Plant Disease detection and diagnosis')\n",
    "\n",
    "frame = tk.Frame(root, bg='#45aaf2')\n",
    "\n",
    "disease = tk.Label(frame, text='Disease:', padx=25, pady=25, font=('verdana',16), bg='#45aaf2')\n",
    "disease_name = tk.Entry(frame, font=('verdana',16))\n",
    "Pesticides = tk.Label(frame, text='Pesticides:', padx=25, pady=25, font=('verdana',16), bg='#45aaf2')\n",
    "Pesticide_name = tk.Entry(frame, font=('verdana',16))\n",
    "\n",
    "lbl_show_pic = tk.Label(frame, bg='#45aaf2')\n",
    "btn_browse = tk.Button(frame, text='Select Image',bg='grey', fg='#ffffff', font=('verdana',16))\n",
    "\n",
    "\n",
    "def selectPic():\n",
    "    global img\n",
    "    filename = filedialog.askopenfilename(initialdir=\"/test\", title=\"Select Image\", filetypes=((\"jpg images\",\"*.jpg\"),(\"png images\",\"*.png\")))\n",
    "    img = Image.open(filename)\n",
    "    img = ImageTk.PhotoImage(img)\n",
    "    lbl_show_pic['image'] = img\n",
    "\n",
    "    className = predict(filename,li)\n",
    "    \n",
    "    if \"healthy\" in className:\n",
    "        disease_name.insert(0, \"The plant is healthy\")\n",
    "        Pesticide_name.insert(0, '--')\n",
    "    else:\n",
    "        disease_name.insert(0, className)\n",
    "        pestName = pest_name(className)\n",
    "        Pesticide_name.insert(0, pestName)\n",
    "\n",
    "\n",
    "btn_browse['command'] = selectPic\n",
    "\n",
    "frame.pack()\n",
    "\n",
    "disease.grid(row=0, column=0)\n",
    "disease_name.grid(row=0, column=1, padx=(0,20))\n",
    "Pesticides.grid(row=1, column=0)\n",
    "Pesticide_name.grid(row=1, column=1, padx=(0,20))\n",
    "lbl_show_pic.grid(row=2, column=0, columnspan=\"2\")\n",
    "btn_browse.grid(row=3, column=0, columnspan=\"2\", padx=10, pady=10)\n",
    "\n",
    "root.mainloop()"
   ]
  },
  {
   "cell_type": "code",
   "execution_count": null,
   "metadata": {},
   "outputs": [],
   "source": []
  }
 ],
 "metadata": {
  "kernelspec": {
   "display_name": "Python 3.9.13 ('tf')",
   "language": "python",
   "name": "python3"
  },
  "language_info": {
   "codemirror_mode": {
    "name": "ipython",
    "version": 3
   },
   "file_extension": ".py",
   "mimetype": "text/x-python",
   "name": "python",
   "nbconvert_exporter": "python",
   "pygments_lexer": "ipython3",
   "version": "3.9.13"
  },
  "vscode": {
   "interpreter": {
    "hash": "9e4db03743f3d18f824fb53de31b82a68ece1997aa5e60ec7f4838580277fe75"
   }
  }
 },
 "nbformat": 4,
 "nbformat_minor": 4
}
